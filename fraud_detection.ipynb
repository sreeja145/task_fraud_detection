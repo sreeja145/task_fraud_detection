{
 "cells": [
  {
   "cell_type": "markdown",
   "id": "728d4005",
   "metadata": {},
   "source": [
    "## Business Context\n",
    "\n",
    "To develop a model predicting fradulent transactions for a financial company and use insights from the model to develop an actionable plan."
   ]
  },
  {
   "cell_type": "markdown",
   "id": "2b804f8c",
   "metadata": {},
   "source": [
    "## Data Preprocessing"
   ]
  },
  {
   "cell_type": "markdown",
   "id": "192d7b8c",
   "metadata": {},
   "source": [
    "### Importing required libraries"
   ]
  },
  {
   "cell_type": "code",
   "execution_count": 209,
   "id": "077ac387",
   "metadata": {},
   "outputs": [],
   "source": [
    "import pandas as pd\n",
    "import numpy as np\n",
    "import matplotlib.pyplot as plt\n",
    "import seaborn as sns\n",
    "\n",
    "import warnings\n",
    "warnings.filterwarnings('ignore')"
   ]
  },
  {
   "cell_type": "code",
   "execution_count": 210,
   "id": "d22b7fe6",
   "metadata": {},
   "outputs": [],
   "source": [
    "df=pd.read_csv('Fraud.csv')"
   ]
  },
  {
   "cell_type": "code",
   "execution_count": 211,
   "id": "11b8e9b4",
   "metadata": {},
   "outputs": [
    {
     "data": {
      "text/html": [
       "<div>\n",
       "<style scoped>\n",
       "    .dataframe tbody tr th:only-of-type {\n",
       "        vertical-align: middle;\n",
       "    }\n",
       "\n",
       "    .dataframe tbody tr th {\n",
       "        vertical-align: top;\n",
       "    }\n",
       "\n",
       "    .dataframe thead th {\n",
       "        text-align: right;\n",
       "    }\n",
       "</style>\n",
       "<table border=\"1\" class=\"dataframe\">\n",
       "  <thead>\n",
       "    <tr style=\"text-align: right;\">\n",
       "      <th></th>\n",
       "      <th>step</th>\n",
       "      <th>type</th>\n",
       "      <th>amount</th>\n",
       "      <th>nameOrig</th>\n",
       "      <th>oldbalanceOrg</th>\n",
       "      <th>newbalanceOrig</th>\n",
       "      <th>nameDest</th>\n",
       "      <th>oldbalanceDest</th>\n",
       "      <th>newbalanceDest</th>\n",
       "      <th>isFraud</th>\n",
       "      <th>isFlaggedFraud</th>\n",
       "    </tr>\n",
       "  </thead>\n",
       "  <tbody>\n",
       "    <tr>\n",
       "      <th>0</th>\n",
       "      <td>1</td>\n",
       "      <td>PAYMENT</td>\n",
       "      <td>9839.64</td>\n",
       "      <td>C1231006815</td>\n",
       "      <td>170136.0</td>\n",
       "      <td>160296.36</td>\n",
       "      <td>M1979787155</td>\n",
       "      <td>0.0</td>\n",
       "      <td>0.0</td>\n",
       "      <td>0</td>\n",
       "      <td>0</td>\n",
       "    </tr>\n",
       "    <tr>\n",
       "      <th>1</th>\n",
       "      <td>1</td>\n",
       "      <td>PAYMENT</td>\n",
       "      <td>1864.28</td>\n",
       "      <td>C1666544295</td>\n",
       "      <td>21249.0</td>\n",
       "      <td>19384.72</td>\n",
       "      <td>M2044282225</td>\n",
       "      <td>0.0</td>\n",
       "      <td>0.0</td>\n",
       "      <td>0</td>\n",
       "      <td>0</td>\n",
       "    </tr>\n",
       "    <tr>\n",
       "      <th>2</th>\n",
       "      <td>1</td>\n",
       "      <td>TRANSFER</td>\n",
       "      <td>181.00</td>\n",
       "      <td>C1305486145</td>\n",
       "      <td>181.0</td>\n",
       "      <td>0.00</td>\n",
       "      <td>C553264065</td>\n",
       "      <td>0.0</td>\n",
       "      <td>0.0</td>\n",
       "      <td>1</td>\n",
       "      <td>0</td>\n",
       "    </tr>\n",
       "    <tr>\n",
       "      <th>3</th>\n",
       "      <td>1</td>\n",
       "      <td>CASH_OUT</td>\n",
       "      <td>181.00</td>\n",
       "      <td>C840083671</td>\n",
       "      <td>181.0</td>\n",
       "      <td>0.00</td>\n",
       "      <td>C38997010</td>\n",
       "      <td>21182.0</td>\n",
       "      <td>0.0</td>\n",
       "      <td>1</td>\n",
       "      <td>0</td>\n",
       "    </tr>\n",
       "    <tr>\n",
       "      <th>4</th>\n",
       "      <td>1</td>\n",
       "      <td>PAYMENT</td>\n",
       "      <td>11668.14</td>\n",
       "      <td>C2048537720</td>\n",
       "      <td>41554.0</td>\n",
       "      <td>29885.86</td>\n",
       "      <td>M1230701703</td>\n",
       "      <td>0.0</td>\n",
       "      <td>0.0</td>\n",
       "      <td>0</td>\n",
       "      <td>0</td>\n",
       "    </tr>\n",
       "  </tbody>\n",
       "</table>\n",
       "</div>"
      ],
      "text/plain": [
       "   step      type    amount     nameOrig  oldbalanceOrg  newbalanceOrig  \\\n",
       "0     1   PAYMENT   9839.64  C1231006815       170136.0       160296.36   \n",
       "1     1   PAYMENT   1864.28  C1666544295        21249.0        19384.72   \n",
       "2     1  TRANSFER    181.00  C1305486145          181.0            0.00   \n",
       "3     1  CASH_OUT    181.00   C840083671          181.0            0.00   \n",
       "4     1   PAYMENT  11668.14  C2048537720        41554.0        29885.86   \n",
       "\n",
       "      nameDest  oldbalanceDest  newbalanceDest  isFraud  isFlaggedFraud  \n",
       "0  M1979787155             0.0             0.0        0               0  \n",
       "1  M2044282225             0.0             0.0        0               0  \n",
       "2   C553264065             0.0             0.0        1               0  \n",
       "3    C38997010         21182.0             0.0        1               0  \n",
       "4  M1230701703             0.0             0.0        0               0  "
      ]
     },
     "execution_count": 211,
     "metadata": {},
     "output_type": "execute_result"
    }
   ],
   "source": [
    "df.head()"
   ]
  },
  {
   "cell_type": "code",
   "execution_count": 212,
   "id": "186fb159",
   "metadata": {},
   "outputs": [
    {
     "name": "stdout",
     "output_type": "stream",
     "text": [
      "<class 'pandas.core.frame.DataFrame'>\n",
      "RangeIndex: 6362620 entries, 0 to 6362619\n",
      "Data columns (total 11 columns):\n",
      " #   Column          Dtype  \n",
      "---  ------          -----  \n",
      " 0   step            int64  \n",
      " 1   type            object \n",
      " 2   amount          float64\n",
      " 3   nameOrig        object \n",
      " 4   oldbalanceOrg   float64\n",
      " 5   newbalanceOrig  float64\n",
      " 6   nameDest        object \n",
      " 7   oldbalanceDest  float64\n",
      " 8   newbalanceDest  float64\n",
      " 9   isFraud         int64  \n",
      " 10  isFlaggedFraud  int64  \n",
      "dtypes: float64(5), int64(3), object(3)\n",
      "memory usage: 534.0+ MB\n"
     ]
    }
   ],
   "source": [
    "df.info()"
   ]
  },
  {
   "cell_type": "markdown",
   "id": "93f12ee3",
   "metadata": {},
   "source": [
    "### Data Description\n",
    "* step - maps a unit of time in the real world. In this case 1 step means 1 hour of time. Total steps 744 (30 days simulation)\n",
    "* type - cash in, cash out, debit, payment and transfer\n",
    "* amount -  amount of transaction in local currency\n",
    "* nameOrig -  customer who started the transaction\n",
    "* oldbalanceOrig - initial balance before transaction\n",
    "* newbalanceOrig - new balance after transaction\n",
    "* nameDest - who is the recipient of the transaction\n",
    "* oldbalanceDest - initial balance recipient before the transaction. Note that there is not information for customers that start with M (Merchants).\n",
    "\n",
    "* newbalanceDest - new balance recipient after the transaction. Note that there is not information for customers that start with M (Merchants).\n",
    "\n",
    "* isFraud - This is the transactions made by the fraudulent agents inside the simulation. In this specific dataset the fraudulent behavior of the agents aims to profit by taking control or customers accounts and try to empty the funds by transferring to another account and then cashing out of the system.\n",
    "\n",
    "* isFlaggedFraud - The business model aims to control massive transfers from one account to another and flags illegal attempts. An illegal attempt in this dataset is an attempt to transfer more than 200.000 in a single transaction."
   ]
  },
  {
   "cell_type": "markdown",
   "id": "93726f81",
   "metadata": {},
   "source": [
    "### Checking for null values"
   ]
  },
  {
   "cell_type": "code",
   "execution_count": 213,
   "id": "b14ba6b2",
   "metadata": {},
   "outputs": [
    {
     "data": {
      "text/plain": [
       "step              0\n",
       "type              0\n",
       "amount            0\n",
       "nameOrig          0\n",
       "oldbalanceOrg     0\n",
       "newbalanceOrig    0\n",
       "nameDest          0\n",
       "oldbalanceDest    0\n",
       "newbalanceDest    0\n",
       "isFraud           0\n",
       "isFlaggedFraud    0\n",
       "dtype: int64"
      ]
     },
     "execution_count": 213,
     "metadata": {},
     "output_type": "execute_result"
    }
   ],
   "source": [
    "df.isnull().sum()"
   ]
  },
  {
   "cell_type": "code",
   "execution_count": 214,
   "id": "b2eaa0e7",
   "metadata": {},
   "outputs": [
    {
     "data": {
      "text/plain": [
       "0"
      ]
     },
     "execution_count": 214,
     "metadata": {},
     "output_type": "execute_result"
    }
   ],
   "source": [
    "df.duplicated().sum()"
   ]
  },
  {
   "cell_type": "markdown",
   "id": "2311a46e",
   "metadata": {},
   "source": [
    "### Checking for outliers"
   ]
  },
  {
   "cell_type": "code",
   "execution_count": 215,
   "id": "0dc800c2",
   "metadata": {},
   "outputs": [
    {
     "data": {
      "text/plain": [
       "count    6.362620e+06\n",
       "mean     2.433972e+02\n",
       "std      1.423320e+02\n",
       "min      1.000000e+00\n",
       "25%      1.560000e+02\n",
       "50%      2.390000e+02\n",
       "75%      3.350000e+02\n",
       "max      7.430000e+02\n",
       "Name: step, dtype: float64"
      ]
     },
     "execution_count": 215,
     "metadata": {},
     "output_type": "execute_result"
    }
   ],
   "source": [
    "df['step'].describe()"
   ]
  },
  {
   "cell_type": "code",
   "execution_count": 216,
   "id": "14170afa",
   "metadata": {},
   "outputs": [],
   "source": [
    "# to get the upper boundary, lower boundary\n",
    "q3,q1=np.percentile(df['step'],[75,25])\n",
    "iqr=q3-q1\n",
    "upper_threshold=q3+1.5*iqr\n",
    "lower_threshold=q3-1.5*iqr"
   ]
  },
  {
   "cell_type": "code",
   "execution_count": 217,
   "id": "2f24b551",
   "metadata": {},
   "outputs": [
    {
     "name": "stdout",
     "output_type": "stream",
     "text": [
      "upper threshold:  603.5 lower threshold:  66.5\n"
     ]
    }
   ],
   "source": [
    "print(\"upper threshold: \",upper_threshold,\"lower threshold: \",lower_threshold)"
   ]
  },
  {
   "cell_type": "code",
   "execution_count": 218,
   "id": "37bd5bad",
   "metadata": {},
   "outputs": [
    {
     "data": {
      "text/html": [
       "<div>\n",
       "<style scoped>\n",
       "    .dataframe tbody tr th:only-of-type {\n",
       "        vertical-align: middle;\n",
       "    }\n",
       "\n",
       "    .dataframe tbody tr th {\n",
       "        vertical-align: top;\n",
       "    }\n",
       "\n",
       "    .dataframe thead th {\n",
       "        text-align: right;\n",
       "    }\n",
       "</style>\n",
       "<table border=\"1\" class=\"dataframe\">\n",
       "  <thead>\n",
       "    <tr style=\"text-align: right;\">\n",
       "      <th></th>\n",
       "      <th>step</th>\n",
       "      <th>type</th>\n",
       "      <th>amount</th>\n",
       "      <th>nameOrig</th>\n",
       "      <th>oldbalanceOrg</th>\n",
       "      <th>newbalanceOrig</th>\n",
       "      <th>nameDest</th>\n",
       "      <th>oldbalanceDest</th>\n",
       "      <th>newbalanceDest</th>\n",
       "      <th>isFraud</th>\n",
       "      <th>isFlaggedFraud</th>\n",
       "    </tr>\n",
       "  </thead>\n",
       "  <tbody>\n",
       "    <tr>\n",
       "      <th>6259932</th>\n",
       "      <td>604</td>\n",
       "      <td>TRANSFER</td>\n",
       "      <td>714218.48</td>\n",
       "      <td>C454938739</td>\n",
       "      <td>714218.48</td>\n",
       "      <td>0.0</td>\n",
       "      <td>C482986731</td>\n",
       "      <td>0.00</td>\n",
       "      <td>0.00</td>\n",
       "      <td>1</td>\n",
       "      <td>0</td>\n",
       "    </tr>\n",
       "    <tr>\n",
       "      <th>6259933</th>\n",
       "      <td>604</td>\n",
       "      <td>CASH_OUT</td>\n",
       "      <td>714218.48</td>\n",
       "      <td>C1835708623</td>\n",
       "      <td>714218.48</td>\n",
       "      <td>0.0</td>\n",
       "      <td>C1881116283</td>\n",
       "      <td>106940.83</td>\n",
       "      <td>821159.31</td>\n",
       "      <td>1</td>\n",
       "      <td>0</td>\n",
       "    </tr>\n",
       "    <tr>\n",
       "      <th>6259934</th>\n",
       "      <td>604</td>\n",
       "      <td>TRANSFER</td>\n",
       "      <td>277582.53</td>\n",
       "      <td>C2144116571</td>\n",
       "      <td>277582.53</td>\n",
       "      <td>0.0</td>\n",
       "      <td>C570246252</td>\n",
       "      <td>0.00</td>\n",
       "      <td>0.00</td>\n",
       "      <td>1</td>\n",
       "      <td>0</td>\n",
       "    </tr>\n",
       "    <tr>\n",
       "      <th>6259935</th>\n",
       "      <td>604</td>\n",
       "      <td>CASH_OUT</td>\n",
       "      <td>277582.53</td>\n",
       "      <td>C1512896686</td>\n",
       "      <td>277582.53</td>\n",
       "      <td>0.0</td>\n",
       "      <td>C731882373</td>\n",
       "      <td>0.00</td>\n",
       "      <td>277582.53</td>\n",
       "      <td>1</td>\n",
       "      <td>0</td>\n",
       "    </tr>\n",
       "    <tr>\n",
       "      <th>6259936</th>\n",
       "      <td>604</td>\n",
       "      <td>TRANSFER</td>\n",
       "      <td>4672401.04</td>\n",
       "      <td>C801580496</td>\n",
       "      <td>4672401.04</td>\n",
       "      <td>0.0</td>\n",
       "      <td>C1917884973</td>\n",
       "      <td>0.00</td>\n",
       "      <td>0.00</td>\n",
       "      <td>1</td>\n",
       "      <td>0</td>\n",
       "    </tr>\n",
       "    <tr>\n",
       "      <th>...</th>\n",
       "      <td>...</td>\n",
       "      <td>...</td>\n",
       "      <td>...</td>\n",
       "      <td>...</td>\n",
       "      <td>...</td>\n",
       "      <td>...</td>\n",
       "      <td>...</td>\n",
       "      <td>...</td>\n",
       "      <td>...</td>\n",
       "      <td>...</td>\n",
       "      <td>...</td>\n",
       "    </tr>\n",
       "    <tr>\n",
       "      <th>6362615</th>\n",
       "      <td>743</td>\n",
       "      <td>CASH_OUT</td>\n",
       "      <td>339682.13</td>\n",
       "      <td>C786484425</td>\n",
       "      <td>339682.13</td>\n",
       "      <td>0.0</td>\n",
       "      <td>C776919290</td>\n",
       "      <td>0.00</td>\n",
       "      <td>339682.13</td>\n",
       "      <td>1</td>\n",
       "      <td>0</td>\n",
       "    </tr>\n",
       "    <tr>\n",
       "      <th>6362616</th>\n",
       "      <td>743</td>\n",
       "      <td>TRANSFER</td>\n",
       "      <td>6311409.28</td>\n",
       "      <td>C1529008245</td>\n",
       "      <td>6311409.28</td>\n",
       "      <td>0.0</td>\n",
       "      <td>C1881841831</td>\n",
       "      <td>0.00</td>\n",
       "      <td>0.00</td>\n",
       "      <td>1</td>\n",
       "      <td>0</td>\n",
       "    </tr>\n",
       "    <tr>\n",
       "      <th>6362617</th>\n",
       "      <td>743</td>\n",
       "      <td>CASH_OUT</td>\n",
       "      <td>6311409.28</td>\n",
       "      <td>C1162922333</td>\n",
       "      <td>6311409.28</td>\n",
       "      <td>0.0</td>\n",
       "      <td>C1365125890</td>\n",
       "      <td>68488.84</td>\n",
       "      <td>6379898.11</td>\n",
       "      <td>1</td>\n",
       "      <td>0</td>\n",
       "    </tr>\n",
       "    <tr>\n",
       "      <th>6362618</th>\n",
       "      <td>743</td>\n",
       "      <td>TRANSFER</td>\n",
       "      <td>850002.52</td>\n",
       "      <td>C1685995037</td>\n",
       "      <td>850002.52</td>\n",
       "      <td>0.0</td>\n",
       "      <td>C2080388513</td>\n",
       "      <td>0.00</td>\n",
       "      <td>0.00</td>\n",
       "      <td>1</td>\n",
       "      <td>0</td>\n",
       "    </tr>\n",
       "    <tr>\n",
       "      <th>6362619</th>\n",
       "      <td>743</td>\n",
       "      <td>CASH_OUT</td>\n",
       "      <td>850002.52</td>\n",
       "      <td>C1280323807</td>\n",
       "      <td>850002.52</td>\n",
       "      <td>0.0</td>\n",
       "      <td>C873221189</td>\n",
       "      <td>6510099.11</td>\n",
       "      <td>7360101.63</td>\n",
       "      <td>1</td>\n",
       "      <td>0</td>\n",
       "    </tr>\n",
       "  </tbody>\n",
       "</table>\n",
       "<p>102688 rows × 11 columns</p>\n",
       "</div>"
      ],
      "text/plain": [
       "         step      type      amount     nameOrig  oldbalanceOrg  \\\n",
       "6259932   604  TRANSFER   714218.48   C454938739      714218.48   \n",
       "6259933   604  CASH_OUT   714218.48  C1835708623      714218.48   \n",
       "6259934   604  TRANSFER   277582.53  C2144116571      277582.53   \n",
       "6259935   604  CASH_OUT   277582.53  C1512896686      277582.53   \n",
       "6259936   604  TRANSFER  4672401.04   C801580496     4672401.04   \n",
       "...       ...       ...         ...          ...            ...   \n",
       "6362615   743  CASH_OUT   339682.13   C786484425      339682.13   \n",
       "6362616   743  TRANSFER  6311409.28  C1529008245     6311409.28   \n",
       "6362617   743  CASH_OUT  6311409.28  C1162922333     6311409.28   \n",
       "6362618   743  TRANSFER   850002.52  C1685995037      850002.52   \n",
       "6362619   743  CASH_OUT   850002.52  C1280323807      850002.52   \n",
       "\n",
       "         newbalanceOrig     nameDest  oldbalanceDest  newbalanceDest  isFraud  \\\n",
       "6259932             0.0   C482986731            0.00            0.00        1   \n",
       "6259933             0.0  C1881116283       106940.83       821159.31        1   \n",
       "6259934             0.0   C570246252            0.00            0.00        1   \n",
       "6259935             0.0   C731882373            0.00       277582.53        1   \n",
       "6259936             0.0  C1917884973            0.00            0.00        1   \n",
       "...                 ...          ...             ...             ...      ...   \n",
       "6362615             0.0   C776919290            0.00       339682.13        1   \n",
       "6362616             0.0  C1881841831            0.00            0.00        1   \n",
       "6362617             0.0  C1365125890        68488.84      6379898.11        1   \n",
       "6362618             0.0  C2080388513            0.00            0.00        1   \n",
       "6362619             0.0   C873221189      6510099.11      7360101.63        1   \n",
       "\n",
       "         isFlaggedFraud  \n",
       "6259932               0  \n",
       "6259933               0  \n",
       "6259934               0  \n",
       "6259935               0  \n",
       "6259936               0  \n",
       "...                 ...  \n",
       "6362615               0  \n",
       "6362616               0  \n",
       "6362617               0  \n",
       "6362618               0  \n",
       "6362619               0  \n",
       "\n",
       "[102688 rows x 11 columns]"
      ]
     },
     "execution_count": 218,
     "metadata": {},
     "output_type": "execute_result"
    }
   ],
   "source": [
    "df[df['step']>upper_threshold]"
   ]
  },
  {
   "cell_type": "code",
   "execution_count": 219,
   "id": "b978c561",
   "metadata": {},
   "outputs": [
    {
     "data": {
      "text/plain": [
       "1.6139263385209237"
      ]
     },
     "execution_count": 219,
     "metadata": {},
     "output_type": "execute_result"
    }
   ],
   "source": [
    "(df[df['step']>upper_threshold].shape[0]/df.shape[0])*100"
   ]
  },
  {
   "cell_type": "markdown",
   "id": "104ff283",
   "metadata": {},
   "source": [
    "* out of 63,62,619 rows,  102688 rows are having values step value greater than upper threshold , i.e 1.6% of the total dataset"
   ]
  },
  {
   "cell_type": "code",
   "execution_count": 220,
   "id": "5df2b956",
   "metadata": {},
   "outputs": [
    {
     "data": {
      "text/plain": [
       "16.19582813369335"
      ]
     },
     "execution_count": 220,
     "metadata": {},
     "output_type": "execute_result"
    }
   ],
   "source": [
    "(df[df['step']<lower_threshold].shape[0]/df.shape[0])*100"
   ]
  },
  {
   "cell_type": "markdown",
   "id": "e118ce07",
   "metadata": {},
   "source": [
    "* 16% of the total dataset are less than the lower threshold"
   ]
  },
  {
   "cell_type": "code",
   "execution_count": 221,
   "id": "be5637fa",
   "metadata": {},
   "outputs": [],
   "source": [
    "# for amount variable\n",
    "q3,q1=np.percentile(df['amount'],[75,25])\n",
    "iqr=q3-q1\n",
    "upper_threshold=q3+1.5*iqr\n",
    "lower_threshold=q3-1.5*iqr"
   ]
  },
  {
   "cell_type": "code",
   "execution_count": 222,
   "id": "f29a64e1",
   "metadata": {},
   "outputs": [
    {
     "name": "stdout",
     "output_type": "stream",
     "text": [
      "upper threshold:  501719.33875 lower threshold:  -84276.38375000001\n"
     ]
    }
   ],
   "source": [
    "print(\"upper threshold: \",upper_threshold,\"lower threshold: \",lower_threshold)"
   ]
  },
  {
   "cell_type": "code",
   "execution_count": 223,
   "id": "f651a801",
   "metadata": {},
   "outputs": [
    {
     "data": {
      "text/plain": [
       "0.0"
      ]
     },
     "execution_count": 223,
     "metadata": {},
     "output_type": "execute_result"
    }
   ],
   "source": [
    "(df[df['step']>upper_threshold].shape[0]/df.shape[0])*100 "
   ]
  },
  {
   "cell_type": "code",
   "execution_count": 224,
   "id": "9adf9cbf",
   "metadata": {},
   "outputs": [
    {
     "data": {
      "text/plain": [
       "0.0"
      ]
     },
     "execution_count": 224,
     "metadata": {},
     "output_type": "execute_result"
    }
   ],
   "source": [
    "(df[df['step']<lower_threshold].shape[0]/df.shape[0])*100"
   ]
  },
  {
   "cell_type": "markdown",
   "id": "7476ee3f",
   "metadata": {},
   "source": [
    "* no outliers in 'amount' variable"
   ]
  },
  {
   "cell_type": "code",
   "execution_count": 225,
   "id": "c8992a6e",
   "metadata": {},
   "outputs": [
    {
     "name": "stdout",
     "output_type": "stream",
     "text": [
      "upper threshold:  268287.9375 lower threshold:  -53657.58750000001\n"
     ]
    }
   ],
   "source": [
    "# for oldbalanceOrg\n",
    "q3,q1=np.percentile(df['oldbalanceOrg'],[75,25])\n",
    "iqr=q3-q1\n",
    "upper_threshold=q3+1.5*iqr\n",
    "lower_threshold=q3-1.5*iqr\n",
    "print(\"upper threshold: \",upper_threshold,\"lower threshold: \",lower_threshold)"
   ]
  },
  {
   "cell_type": "code",
   "execution_count": 226,
   "id": "05887fac",
   "metadata": {},
   "outputs": [
    {
     "data": {
      "text/plain": [
       "17.485045468690572"
      ]
     },
     "execution_count": 226,
     "metadata": {},
     "output_type": "execute_result"
    }
   ],
   "source": [
    "(df[df['oldbalanceOrg']>upper_threshold].shape[0]/df.shape[0])*100 "
   ]
  },
  {
   "cell_type": "code",
   "execution_count": 227,
   "id": "3cdfccfd",
   "metadata": {},
   "outputs": [
    {
     "data": {
      "text/plain": [
       "0.0"
      ]
     },
     "execution_count": 227,
     "metadata": {},
     "output_type": "execute_result"
    }
   ],
   "source": [
    "(df[df['oldbalanceOrg']<lower_threshold].shape[0]/df.shape[0])*100"
   ]
  },
  {
   "cell_type": "markdown",
   "id": "3f3f7023",
   "metadata": {},
   "source": [
    "* 17% of data has oldbalanceOrg greater than upper threshold value"
   ]
  },
  {
   "cell_type": "code",
   "execution_count": 228,
   "id": "d71f7523",
   "metadata": {},
   "outputs": [
    {
     "name": "stdout",
     "output_type": "stream",
     "text": [
      "upper threshold:  360646.025 lower threshold:  -72129.20499999999\n"
     ]
    }
   ],
   "source": [
    "# for newbalanceOrig\n",
    "q3,q1=np.percentile(df['newbalanceOrig'],[75,25])\n",
    "iqr=q3-q1\n",
    "upper_threshold=q3+1.5*iqr\n",
    "lower_threshold=q3-1.5*iqr\n",
    "print(\"upper threshold: \",upper_threshold,\"lower threshold: \",lower_threshold)"
   ]
  },
  {
   "cell_type": "code",
   "execution_count": 229,
   "id": "f268180f",
   "metadata": {},
   "outputs": [
    {
     "data": {
      "text/plain": [
       "16.5559313616089"
      ]
     },
     "execution_count": 229,
     "metadata": {},
     "output_type": "execute_result"
    }
   ],
   "source": [
    "(df[df['newbalanceOrig']>upper_threshold].shape[0]/df.shape[0])*100 "
   ]
  },
  {
   "cell_type": "code",
   "execution_count": 230,
   "id": "568b7c01",
   "metadata": {},
   "outputs": [
    {
     "data": {
      "text/plain": [
       "0.0"
      ]
     },
     "execution_count": 230,
     "metadata": {},
     "output_type": "execute_result"
    }
   ],
   "source": [
    "(df[df['newbalanceOrig']<lower_threshold].shape[0]/df.shape[0])*100"
   ]
  },
  {
   "cell_type": "markdown",
   "id": "8b025090",
   "metadata": {},
   "source": [
    "* 16.5% of data has newbalanceOrig greater than upper threshold value"
   ]
  },
  {
   "cell_type": "code",
   "execution_count": 231,
   "id": "01051788",
   "metadata": {},
   "outputs": [
    {
     "name": "stdout",
     "output_type": "stream",
     "text": [
      "upper threshold:  2357591.76875 lower threshold:  -471518.35375\n"
     ]
    }
   ],
   "source": [
    "# for oldbalanceDest\n",
    "q3,q1=np.percentile(df['oldbalanceDest'],[75,25])\n",
    "iqr=q3-q1\n",
    "upper_threshold=q3+1.5*iqr\n",
    "lower_threshold=q3-1.5*iqr\n",
    "print(\"upper threshold: \",upper_threshold,\"lower threshold: \",lower_threshold)"
   ]
  },
  {
   "cell_type": "code",
   "execution_count": 232,
   "id": "b1e3248b",
   "metadata": {},
   "outputs": [
    {
     "data": {
      "text/plain": [
       "12.355523353587044"
      ]
     },
     "execution_count": 232,
     "metadata": {},
     "output_type": "execute_result"
    }
   ],
   "source": [
    "(df[df['oldbalanceDest']>upper_threshold].shape[0]/df.shape[0])*100 "
   ]
  },
  {
   "cell_type": "code",
   "execution_count": 233,
   "id": "39ee0e46",
   "metadata": {},
   "outputs": [
    {
     "data": {
      "text/plain": [
       "0.0"
      ]
     },
     "execution_count": 233,
     "metadata": {},
     "output_type": "execute_result"
    }
   ],
   "source": [
    "(df[df['oldbalanceDest']<lower_threshold].shape[0]/df.shape[0])*100"
   ]
  },
  {
   "cell_type": "markdown",
   "id": "4643f52c",
   "metadata": {},
   "source": [
    "* 12.35% of data has oldbalanceDest greater than upper threshold value"
   ]
  },
  {
   "cell_type": "code",
   "execution_count": 234,
   "id": "519b3817",
   "metadata": {},
   "outputs": [
    {
     "name": "stdout",
     "output_type": "stream",
     "text": [
      "upper threshold:  2779773.125 lower threshold:  -555954.625\n"
     ]
    }
   ],
   "source": [
    "# for newbalanceDest\n",
    "q3,q1=np.percentile(df['newbalanceDest'],[75,25])\n",
    "iqr=q3-q1\n",
    "upper_threshold=q3+1.5*iqr\n",
    "lower_threshold=q3-1.5*iqr\n",
    "print(\"upper threshold: \",upper_threshold,\"lower threshold: \",lower_threshold)"
   ]
  },
  {
   "cell_type": "code",
   "execution_count": 235,
   "id": "ecce5ad9",
   "metadata": {},
   "outputs": [
    {
     "data": {
      "text/plain": [
       "11.60727813385052"
      ]
     },
     "execution_count": 235,
     "metadata": {},
     "output_type": "execute_result"
    }
   ],
   "source": [
    "(df[df['newbalanceDest']>upper_threshold].shape[0]/df.shape[0])*100 "
   ]
  },
  {
   "cell_type": "code",
   "execution_count": 236,
   "id": "a1cd23bb",
   "metadata": {},
   "outputs": [
    {
     "data": {
      "text/plain": [
       "0.0"
      ]
     },
     "execution_count": 236,
     "metadata": {},
     "output_type": "execute_result"
    }
   ],
   "source": [
    "(df[df['newbalanceDest']<lower_threshold].shape[0]/df.shape[0])*100"
   ]
  },
  {
   "cell_type": "markdown",
   "id": "0337cb3f",
   "metadata": {},
   "source": [
    "* 11.6% of data has newbalanceDest greater than upper threshold value"
   ]
  },
  {
   "cell_type": "code",
   "execution_count": 237,
   "id": "3b1b3645",
   "metadata": {},
   "outputs": [
    {
     "name": "stdout",
     "output_type": "stream",
     "text": [
      "upper threshold:  0.0 lower threshold:  0.0\n"
     ]
    }
   ],
   "source": [
    "# for isFraud \n",
    "q3,q1=np.percentile(df['isFraud'],[75,25])\n",
    "iqr=q3-q1\n",
    "upper_threshold=q3+1.5*iqr\n",
    "lower_threshold=q3-1.5*iqr\n",
    "print(\"upper threshold: \",upper_threshold,\"lower threshold: \",lower_threshold)"
   ]
  },
  {
   "cell_type": "code",
   "execution_count": 238,
   "id": "78de9ce3",
   "metadata": {},
   "outputs": [
    {
     "data": {
      "text/plain": [
       "0.12908204481801522"
      ]
     },
     "execution_count": 238,
     "metadata": {},
     "output_type": "execute_result"
    }
   ],
   "source": [
    "(df[df['isFraud']>upper_threshold].shape[0]/df.shape[0])*100 "
   ]
  },
  {
   "cell_type": "code",
   "execution_count": 239,
   "id": "9529fc2a",
   "metadata": {},
   "outputs": [
    {
     "data": {
      "text/plain": [
       "0.0"
      ]
     },
     "execution_count": 239,
     "metadata": {},
     "output_type": "execute_result"
    }
   ],
   "source": [
    "(df[df['isFraud']<lower_threshold].shape[0]/df.shape[0])*100"
   ]
  },
  {
   "cell_type": "markdown",
   "id": "93a8b9c8",
   "metadata": {},
   "source": [
    "* only 0.12% of data has isFraud greater then upper threshold value which is very less."
   ]
  },
  {
   "cell_type": "code",
   "execution_count": 240,
   "id": "dd2114d4",
   "metadata": {},
   "outputs": [
    {
     "name": "stdout",
     "output_type": "stream",
     "text": [
      "upper threshold:  0.0 lower threshold:  0.0\n"
     ]
    }
   ],
   "source": [
    "# for isFlaggedFraud\n",
    "q3,q1=np.percentile(df['isFlaggedFraud'],[75,25])\n",
    "iqr=q3-q1\n",
    "upper_threshold=q3+1.5*iqr\n",
    "lower_threshold=q3-1.5*iqr\n",
    "print(\"upper threshold: \",upper_threshold,\"lower threshold: \",lower_threshold)"
   ]
  },
  {
   "cell_type": "code",
   "execution_count": 241,
   "id": "3fba30a1",
   "metadata": {},
   "outputs": [
    {
     "data": {
      "text/plain": [
       "0.000251468734577894"
      ]
     },
     "execution_count": 241,
     "metadata": {},
     "output_type": "execute_result"
    }
   ],
   "source": [
    "(df[df['isFlaggedFraud']>upper_threshold].shape[0]/df.shape[0])*100"
   ]
  },
  {
   "cell_type": "code",
   "execution_count": 242,
   "id": "51d5d87a",
   "metadata": {},
   "outputs": [
    {
     "data": {
      "text/plain": [
       "0.0"
      ]
     },
     "execution_count": 242,
     "metadata": {},
     "output_type": "execute_result"
    }
   ],
   "source": [
    "(df[df['isFlaggedFraud']<lower_threshold].shape[0]/df.shape[0])*100"
   ]
  },
  {
   "cell_type": "markdown",
   "id": "cb13a62b",
   "metadata": {},
   "source": [
    "1. 16% of data has step greater than upper threshold value\n",
    "2. no outliers in 'amount' variable\n",
    "3. 17% of data has oldbalanceOrg greater than upper threshold value\n",
    "4. 16.5% of data has newbalanceOrig greater than upper threshold value\n",
    "5. 12.35% of data has oldbalanceDest greater than upper threshold value\n",
    "6. 11.6% of data has newbalanceDest greater than upper threshold value\n",
    "7. only 0.12% of data has isFraud greater then upper threshold value which is very less.\n",
    "8. very very less amount of data has isFlaggedFraud greater than upper threshold value."
   ]
  },
  {
   "cell_type": "code",
   "execution_count": 243,
   "id": "4765adea",
   "metadata": {},
   "outputs": [],
   "source": [
    "numerical=['step','amount','oldbalanceOrg','newbalanceOrig','oldbalanceDest','newbalanceDest']"
   ]
  },
  {
   "cell_type": "code",
   "execution_count": 244,
   "id": "8dfcdb33",
   "metadata": {},
   "outputs": [
    {
     "data": {
      "image/png": "[encoded data removed]",
      "text/plain": [
       "<Figure size 1080x720 with 6 Axes>"
      ]
     },
     "metadata": {
      "needs_background": "light"
     },
     "output_type": "display_data"
    }
   ],
   "source": [
    "def visualize_boxplots(data,column):\n",
    "    fig,ax=plt.subplots(2,3,figsize=(15,10))\n",
    "    fig.suptitle(\"Box plot for each variable\",size=30)\n",
    "    y=0\n",
    "    for i, feature in enumerate(column):\n",
    "        i,j=divmod(y,3)                                                      # returns a tuple containing quotient and remainder\n",
    "        sns.boxplot(data=data[feature],ax=ax[i,j],orient='h')\n",
    "        ax[i,j].set_title(feature+' skewness is '+str(round(data[feature].skew(axis=0,skipna=True),2)),fontsize=20)\n",
    "        y=y+1\n",
    "visualize_boxplots(data=df,column=numerical)\n",
    "plt.tight_layout()"
   ]
  },
  {
   "cell_type": "markdown",
   "id": "4318d92e",
   "metadata": {},
   "source": [
    "#### * i think we can remove new balance recipient, old balance recipient columns\n",
    "#### * isFlaggedFraud and isFraud are similar, the aim is to predict whether the transaction is fraud or not.\n",
    "#### * isFlaggedFraud can also be removed.\n",
    "#### * customer who started the transaction doesn't give much information about whether the transaction is fraud,  nameOrigin column can also be removed."
   ]
  },
  {
   "cell_type": "markdown",
   "id": "c7a60a61",
   "metadata": {},
   "source": [
    "#### .  as mentioned in the description for steps, the total record is taken for 30 days approximately 744 hours, \n",
    "#### .  the value is greater than outlier values so we can keep the values of step, no need to remove outliers.\n",
    "#### . for oldbalanceOrg and newbalanceOrg instead clipping with the given range, we can keep the values same as it helps in real world application.\n"
   ]
  },
  {
   "cell_type": "code",
   "execution_count": 245,
   "id": "aec35cef",
   "metadata": {},
   "outputs": [],
   "source": [
    "df.drop(['isFlaggedFraud','oldbalanceDest','newbalanceDest','nameOrig','nameDest'],axis=1,inplace=True)"
   ]
  },
  {
   "cell_type": "code",
   "execution_count": 246,
   "id": "c286e11d",
   "metadata": {},
   "outputs": [
    {
     "data": {
      "text/html": [
       "<div>\n",
       "<style scoped>\n",
       "    .dataframe tbody tr th:only-of-type {\n",
       "        vertical-align: middle;\n",
       "    }\n",
       "\n",
       "    .dataframe tbody tr th {\n",
       "        vertical-align: top;\n",
       "    }\n",
       "\n",
       "    .dataframe thead th {\n",
       "        text-align: right;\n",
       "    }\n",
       "</style>\n",
       "<table border=\"1\" class=\"dataframe\">\n",
       "  <thead>\n",
       "    <tr style=\"text-align: right;\">\n",
       "      <th></th>\n",
       "      <th>step</th>\n",
       "      <th>type</th>\n",
       "      <th>amount</th>\n",
       "      <th>oldbalanceOrg</th>\n",
       "      <th>newbalanceOrig</th>\n",
       "      <th>isFraud</th>\n",
       "    </tr>\n",
       "  </thead>\n",
       "  <tbody>\n",
       "    <tr>\n",
       "      <th>0</th>\n",
       "      <td>1</td>\n",
       "      <td>PAYMENT</td>\n",
       "      <td>9839.64</td>\n",
       "      <td>170136.0</td>\n",
       "      <td>160296.36</td>\n",
       "      <td>0</td>\n",
       "    </tr>\n",
       "    <tr>\n",
       "      <th>1</th>\n",
       "      <td>1</td>\n",
       "      <td>PAYMENT</td>\n",
       "      <td>1864.28</td>\n",
       "      <td>21249.0</td>\n",
       "      <td>19384.72</td>\n",
       "      <td>0</td>\n",
       "    </tr>\n",
       "    <tr>\n",
       "      <th>2</th>\n",
       "      <td>1</td>\n",
       "      <td>TRANSFER</td>\n",
       "      <td>181.00</td>\n",
       "      <td>181.0</td>\n",
       "      <td>0.00</td>\n",
       "      <td>1</td>\n",
       "    </tr>\n",
       "    <tr>\n",
       "      <th>3</th>\n",
       "      <td>1</td>\n",
       "      <td>CASH_OUT</td>\n",
       "      <td>181.00</td>\n",
       "      <td>181.0</td>\n",
       "      <td>0.00</td>\n",
       "      <td>1</td>\n",
       "    </tr>\n",
       "    <tr>\n",
       "      <th>4</th>\n",
       "      <td>1</td>\n",
       "      <td>PAYMENT</td>\n",
       "      <td>11668.14</td>\n",
       "      <td>41554.0</td>\n",
       "      <td>29885.86</td>\n",
       "      <td>0</td>\n",
       "    </tr>\n",
       "  </tbody>\n",
       "</table>\n",
       "</div>"
      ],
      "text/plain": [
       "   step      type    amount  oldbalanceOrg  newbalanceOrig  isFraud\n",
       "0     1   PAYMENT   9839.64       170136.0       160296.36        0\n",
       "1     1   PAYMENT   1864.28        21249.0        19384.72        0\n",
       "2     1  TRANSFER    181.00          181.0            0.00        1\n",
       "3     1  CASH_OUT    181.00          181.0            0.00        1\n",
       "4     1   PAYMENT  11668.14        41554.0        29885.86        0"
      ]
     },
     "execution_count": 246,
     "metadata": {},
     "output_type": "execute_result"
    }
   ],
   "source": [
    "df.head()"
   ]
  },
  {
   "cell_type": "markdown",
   "id": "ce2baef7",
   "metadata": {},
   "source": [
    "## Visualizing the data"
   ]
  },
  {
   "cell_type": "markdown",
   "id": "09909dae",
   "metadata": {},
   "source": [
    "### Univariate analysis"
   ]
  },
  {
   "cell_type": "code",
   "execution_count": 247,
   "id": "b6b34842",
   "metadata": {},
   "outputs": [
    {
     "data": {
      "text/plain": [
       "<AxesSubplot:xlabel='isFraud', ylabel='count'>"
      ]
     },
     "execution_count": 247,
     "metadata": {},
     "output_type": "execute_result"
    },
    {
     "data": {
      "image/png": "[encoded data removed]",
      "text/plain": [
       "<Figure size 720x576 with 1 Axes>"
      ]
     },
     "metadata": {
      "needs_background": "light"
     },
     "output_type": "display_data"
    }
   ],
   "source": [
    "# for isFraud \n",
    "plt.figure(figsize=(10,8))\n",
    "sns.countplot(data=df,x=df['isFraud'])"
   ]
  },
  {
   "cell_type": "markdown",
   "id": "4a74c69b",
   "metadata": {},
   "source": [
    "* we can see the target column is imbalanced, it is an imbalanced dataset\n",
    "* we need to balance the dataset, before training the model"
   ]
  },
  {
   "cell_type": "code",
   "execution_count": 248,
   "id": "1ca9bfa8",
   "metadata": {},
   "outputs": [
    {
     "data": {
      "text/plain": [
       "<AxesSubplot:ylabel='Frequency'>"
      ]
     },
     "execution_count": 248,
     "metadata": {},
     "output_type": "execute_result"
    },
    {
     "data": {
      "image/png": "[encoded data removed]",
      "text/plain": [
       "<Figure size 432x288 with 1 Axes>"
      ]
     },
     "metadata": {
      "needs_background": "light"
     },
     "output_type": "display_data"
    }
   ],
   "source": [
    "fig,ax=plt.subplots(figsize=(6,4))\n",
    "df['step'].plot(kind=\"hist\",density=True,alpha=0.65,bins=15)  # apha is about amount of transparency you want\n",
    "# df['step'].plot(kind='kde')"
   ]
  },
  {
   "cell_type": "code",
   "execution_count": 249,
   "id": "c71529f5",
   "metadata": {},
   "outputs": [
    {
     "data": {
      "image/png": "[encoded data removed]",
      "text/plain": [
       "<Figure size 432x288 with 1 Axes>"
      ]
     },
     "metadata": {
      "needs_background": "light"
     },
     "output_type": "display_data"
    }
   ],
   "source": [
    "sns.distplot(df['step'],bins=100)\n",
    "plt.show()"
   ]
  },
  {
   "cell_type": "code",
   "execution_count": 250,
   "id": "d70dd231",
   "metadata": {},
   "outputs": [
    {
     "data": {
      "image/png": "[encoded data removed]",
      "text/plain": [
       "<Figure size 720x360 with 1 Axes>"
      ]
     },
     "metadata": {
      "needs_background": "light"
     },
     "output_type": "display_data"
    }
   ],
   "source": [
    "# for type variable\n",
    "plt.figure(figsize=(10,5))\n",
    "sns.countplot(data=df,x=df['type'])\n",
    "total = len(df['type'])\n",
    "for p in ax.patches:\n",
    "        percentage = '{:.1f}%'.format(100 * p.get_width()/total)\n",
    "        x = p.get_x() + p.get_width() + 0.02\n",
    "        y = p.get_y() + p.get_height()/2\n",
    "        ax.annotate(percentage, (x, y))\n",
    "plt.show()"
   ]
  },
  {
   "cell_type": "markdown",
   "id": "987c029b",
   "metadata": {},
   "source": [
    "* we can see cash out and payment are equal in amounts\n",
    "* debit type is very minimal"
   ]
  },
  {
   "cell_type": "markdown",
   "id": "20201a9b",
   "metadata": {},
   "source": [
    "### Bivariate analysis"
   ]
  },
  {
   "cell_type": "code",
   "execution_count": 251,
   "id": "7c0f77d1",
   "metadata": {
    "scrolled": true
   },
   "outputs": [
    {
     "data": {
      "text/plain": [
       "<AxesSubplot:xlabel='type', ylabel='amount'>"
      ]
     },
     "execution_count": 251,
     "metadata": {},
     "output_type": "execute_result"
    },
    {
     "data": {
      "image/png": "[encoded data removed]",
      "text/plain": [
       "<Figure size 432x288 with 1 Axes>"
      ]
     },
     "metadata": {
      "needs_background": "light"
     },
     "output_type": "display_data"
    }
   ],
   "source": [
    "sns.barplot(x='type',y='amount',data=df)"
   ]
  },
  {
   "cell_type": "markdown",
   "id": "ff3d6487",
   "metadata": {},
   "source": [
    "### most amount is being sent to the recipient using 'transfer' type"
   ]
  },
  {
   "cell_type": "code",
   "execution_count": 254,
   "id": "3a3a53e1",
   "metadata": {},
   "outputs": [
    {
     "data": {
      "image/png": "[encoded data removed]",
      "text/plain": [
       "<Figure size 432x288 with 1 Axes>"
      ]
     },
     "metadata": {
      "needs_background": "light"
     },
     "output_type": "display_data"
    }
   ],
   "source": [
    "sns.barplot(data=df,x='type',y='amount',hue='isFraud')\n",
    "plt.show()"
   ]
  },
  {
   "cell_type": "code",
   "execution_count": 150,
   "id": "82b02587",
   "metadata": {},
   "outputs": [
    {
     "data": {
      "text/plain": [
       "<AxesSubplot:xlabel='step', ylabel='amount'>"
      ]
     },
     "execution_count": 150,
     "metadata": {},
     "output_type": "execute_result"
    },
    {
     "data": {
      "image/png": "[encoded data removed]",
      "text/plain": [
       "<Figure size 432x288 with 1 Axes>"
      ]
     },
     "metadata": {
      "needs_background": "light"
     },
     "output_type": "display_data"
    }
   ],
   "source": [
    "sns.scatterplot(x='step',y='amount',data=df)"
   ]
  },
  {
   "cell_type": "markdown",
   "id": "cdadcfe2",
   "metadata": {},
   "source": [
    "* step value 300 indicates more amount being transferred. "
   ]
  },
  {
   "cell_type": "code",
   "execution_count": 152,
   "id": "0fe5c2d2",
   "metadata": {},
   "outputs": [
    {
     "data": {
      "text/plain": [
       "<AxesSubplot:title={'center':'amount'}, xlabel='isFraud'>"
      ]
     },
     "execution_count": 152,
     "metadata": {},
     "output_type": "execute_result"
    },
    {
     "data": {
      "image/png": "[encoded data removed]",
      "text/plain": [
       "<Figure size 360x432 with 1 Axes>"
      ]
     },
     "metadata": {
      "needs_background": "light"
     },
     "output_type": "display_data"
    }
   ],
   "source": [
    "df.boxplot(column='amount',by='isFraud',figsize=(5,6))"
   ]
  },
  {
   "cell_type": "markdown",
   "id": "97fda281",
   "metadata": {},
   "source": [
    "* very large amounts are not effected by frauds\n",
    "* low amounts are getting effecting by frauds"
   ]
  },
  {
   "cell_type": "code",
   "execution_count": 153,
   "id": "a7265c3b",
   "metadata": {},
   "outputs": [
    {
     "data": {
      "text/plain": [
       "<AxesSubplot:title={'center':'step'}, xlabel='isFraud'>"
      ]
     },
     "execution_count": 153,
     "metadata": {},
     "output_type": "execute_result"
    },
    {
     "data": {
      "image/png": "[encoded data removed]",
      "text/plain": [
       "<Figure size 360x432 with 1 Axes>"
      ]
     },
     "metadata": {
      "needs_background": "light"
     },
     "output_type": "display_data"
    }
   ],
   "source": [
    "df.boxplot(column='step',by='isFraud',figsize=(5,6))"
   ]
  },
  {
   "cell_type": "markdown",
   "id": "bb056d5f",
   "metadata": {},
   "source": [
    "* most frauds are taken above 300 steps"
   ]
  },
  {
   "cell_type": "markdown",
   "id": "0f626aae",
   "metadata": {},
   "source": [
    "## Checking for multicollinearity"
   ]
  },
  {
   "cell_type": "code",
   "execution_count": 158,
   "id": "f5ae5ad0",
   "metadata": {},
   "outputs": [],
   "source": [
    "from statsmodels.stats.outliers_influence import variance_inflation_factor\n",
    "def calculate_vif(X):\n",
    "    vif=pd.DataFrame()\n",
    "    vif['variables']=X.columns\n",
    "    vif['VIF']=[variance_inflation_factor(X.values,i) for i in range(X.shape[1])]\n",
    "    return vif"
   ]
  },
  {
   "cell_type": "code",
   "execution_count": 160,
   "id": "8dc396bf",
   "metadata": {},
   "outputs": [
    {
     "data": {
      "text/html": [
       "<div>\n",
       "<style scoped>\n",
       "    .dataframe tbody tr th:only-of-type {\n",
       "        vertical-align: middle;\n",
       "    }\n",
       "\n",
       "    .dataframe tbody tr th {\n",
       "        vertical-align: top;\n",
       "    }\n",
       "\n",
       "    .dataframe thead th {\n",
       "        text-align: right;\n",
       "    }\n",
       "</style>\n",
       "<table border=\"1\" class=\"dataframe\">\n",
       "  <thead>\n",
       "    <tr style=\"text-align: right;\">\n",
       "      <th></th>\n",
       "      <th>variables</th>\n",
       "      <th>VIF</th>\n",
       "    </tr>\n",
       "  </thead>\n",
       "  <tbody>\n",
       "    <tr>\n",
       "      <th>0</th>\n",
       "      <td>step</td>\n",
       "      <td>1.135626</td>\n",
       "    </tr>\n",
       "    <tr>\n",
       "      <th>1</th>\n",
       "      <td>amount</td>\n",
       "      <td>1.081428</td>\n",
       "    </tr>\n",
       "    <tr>\n",
       "      <th>2</th>\n",
       "      <td>oldbalanceOrg</td>\n",
       "      <td>456.441542</td>\n",
       "    </tr>\n",
       "    <tr>\n",
       "      <th>3</th>\n",
       "      <td>newbalanceOrig</td>\n",
       "      <td>457.001203</td>\n",
       "    </tr>\n",
       "  </tbody>\n",
       "</table>\n",
       "</div>"
      ],
      "text/plain": [
       "        variables         VIF\n",
       "0            step    1.135626\n",
       "1          amount    1.081428\n",
       "2   oldbalanceOrg  456.441542\n",
       "3  newbalanceOrig  457.001203"
      ]
     },
     "execution_count": 160,
     "metadata": {},
     "output_type": "execute_result"
    }
   ],
   "source": [
    "# multicollinearity can be checked using VIF (variance inflation factor)\n",
    "X=df[['step','amount','oldbalanceOrg','newbalanceOrig']]\n",
    "calculate_vif(X)"
   ]
  },
  {
   "cell_type": "markdown",
   "id": "9ba6f001",
   "metadata": {},
   "source": [
    "* we can remove one of the variables, since oldbalanceOrg and newbalanceOrig are having high collinearity with others, we can remove one of them"
   ]
  },
  {
   "cell_type": "code",
   "execution_count": 161,
   "id": "2bf0ed53",
   "metadata": {},
   "outputs": [],
   "source": [
    "X['transferred_amount']=X['oldbalanceOrg']-X['newbalanceOrig']"
   ]
  },
  {
   "cell_type": "code",
   "execution_count": 163,
   "id": "e367c9c5",
   "metadata": {},
   "outputs": [],
   "source": [
    "Y=pd.DataFrame({\"trans_amount\":X['transferred_amount'],\"amount\":X['amount']})"
   ]
  },
  {
   "cell_type": "code",
   "execution_count": 164,
   "id": "5cb86dd1",
   "metadata": {},
   "outputs": [
    {
     "data": {
      "text/html": [
       "<div>\n",
       "<style scoped>\n",
       "    .dataframe tbody tr th:only-of-type {\n",
       "        vertical-align: middle;\n",
       "    }\n",
       "\n",
       "    .dataframe tbody tr th {\n",
       "        vertical-align: top;\n",
       "    }\n",
       "\n",
       "    .dataframe thead th {\n",
       "        text-align: right;\n",
       "    }\n",
       "</style>\n",
       "<table border=\"1\" class=\"dataframe\">\n",
       "  <thead>\n",
       "    <tr style=\"text-align: right;\">\n",
       "      <th></th>\n",
       "      <th>trans_amount</th>\n",
       "      <th>amount</th>\n",
       "    </tr>\n",
       "  </thead>\n",
       "  <tbody>\n",
       "    <tr>\n",
       "      <th>0</th>\n",
       "      <td>9839.64</td>\n",
       "      <td>9839.64</td>\n",
       "    </tr>\n",
       "    <tr>\n",
       "      <th>1</th>\n",
       "      <td>1864.28</td>\n",
       "      <td>1864.28</td>\n",
       "    </tr>\n",
       "    <tr>\n",
       "      <th>2</th>\n",
       "      <td>181.00</td>\n",
       "      <td>181.00</td>\n",
       "    </tr>\n",
       "    <tr>\n",
       "      <th>3</th>\n",
       "      <td>181.00</td>\n",
       "      <td>181.00</td>\n",
       "    </tr>\n",
       "    <tr>\n",
       "      <th>4</th>\n",
       "      <td>11668.14</td>\n",
       "      <td>11668.14</td>\n",
       "    </tr>\n",
       "    <tr>\n",
       "      <th>...</th>\n",
       "      <td>...</td>\n",
       "      <td>...</td>\n",
       "    </tr>\n",
       "    <tr>\n",
       "      <th>6362615</th>\n",
       "      <td>339682.13</td>\n",
       "      <td>339682.13</td>\n",
       "    </tr>\n",
       "    <tr>\n",
       "      <th>6362616</th>\n",
       "      <td>6311409.28</td>\n",
       "      <td>6311409.28</td>\n",
       "    </tr>\n",
       "    <tr>\n",
       "      <th>6362617</th>\n",
       "      <td>6311409.28</td>\n",
       "      <td>6311409.28</td>\n",
       "    </tr>\n",
       "    <tr>\n",
       "      <th>6362618</th>\n",
       "      <td>850002.52</td>\n",
       "      <td>850002.52</td>\n",
       "    </tr>\n",
       "    <tr>\n",
       "      <th>6362619</th>\n",
       "      <td>850002.52</td>\n",
       "      <td>850002.52</td>\n",
       "    </tr>\n",
       "  </tbody>\n",
       "</table>\n",
       "<p>6362620 rows × 2 columns</p>\n",
       "</div>"
      ],
      "text/plain": [
       "         trans_amount      amount\n",
       "0             9839.64     9839.64\n",
       "1             1864.28     1864.28\n",
       "2              181.00      181.00\n",
       "3              181.00      181.00\n",
       "4            11668.14    11668.14\n",
       "...               ...         ...\n",
       "6362615     339682.13   339682.13\n",
       "6362616    6311409.28  6311409.28\n",
       "6362617    6311409.28  6311409.28\n",
       "6362618     850002.52   850002.52\n",
       "6362619     850002.52   850002.52\n",
       "\n",
       "[6362620 rows x 2 columns]"
      ]
     },
     "execution_count": 164,
     "metadata": {},
     "output_type": "execute_result"
    }
   ],
   "source": [
    "Y"
   ]
  },
  {
   "cell_type": "code",
   "execution_count": 165,
   "id": "d1503e14",
   "metadata": {},
   "outputs": [],
   "source": [
    "# let's check correlation\n",
    "correlation=df.corr()\n"
   ]
  },
  {
   "cell_type": "code",
   "execution_count": 166,
   "id": "7350ceb0",
   "metadata": {},
   "outputs": [
    {
     "data": {
      "text/html": [
       "<div>\n",
       "<style scoped>\n",
       "    .dataframe tbody tr th:only-of-type {\n",
       "        vertical-align: middle;\n",
       "    }\n",
       "\n",
       "    .dataframe tbody tr th {\n",
       "        vertical-align: top;\n",
       "    }\n",
       "\n",
       "    .dataframe thead th {\n",
       "        text-align: right;\n",
       "    }\n",
       "</style>\n",
       "<table border=\"1\" class=\"dataframe\">\n",
       "  <thead>\n",
       "    <tr style=\"text-align: right;\">\n",
       "      <th></th>\n",
       "      <th>step</th>\n",
       "      <th>amount</th>\n",
       "      <th>oldbalanceOrg</th>\n",
       "      <th>newbalanceOrig</th>\n",
       "      <th>isFraud</th>\n",
       "    </tr>\n",
       "  </thead>\n",
       "  <tbody>\n",
       "    <tr>\n",
       "      <th>step</th>\n",
       "      <td>1.000000</td>\n",
       "      <td>0.022373</td>\n",
       "      <td>-0.010058</td>\n",
       "      <td>-0.010299</td>\n",
       "      <td>0.031578</td>\n",
       "    </tr>\n",
       "    <tr>\n",
       "      <th>amount</th>\n",
       "      <td>0.022373</td>\n",
       "      <td>1.000000</td>\n",
       "      <td>-0.002762</td>\n",
       "      <td>-0.007861</td>\n",
       "      <td>0.076688</td>\n",
       "    </tr>\n",
       "    <tr>\n",
       "      <th>oldbalanceOrg</th>\n",
       "      <td>-0.010058</td>\n",
       "      <td>-0.002762</td>\n",
       "      <td>1.000000</td>\n",
       "      <td>0.998803</td>\n",
       "      <td>0.010154</td>\n",
       "    </tr>\n",
       "    <tr>\n",
       "      <th>newbalanceOrig</th>\n",
       "      <td>-0.010299</td>\n",
       "      <td>-0.007861</td>\n",
       "      <td>0.998803</td>\n",
       "      <td>1.000000</td>\n",
       "      <td>-0.008148</td>\n",
       "    </tr>\n",
       "    <tr>\n",
       "      <th>isFraud</th>\n",
       "      <td>0.031578</td>\n",
       "      <td>0.076688</td>\n",
       "      <td>0.010154</td>\n",
       "      <td>-0.008148</td>\n",
       "      <td>1.000000</td>\n",
       "    </tr>\n",
       "  </tbody>\n",
       "</table>\n",
       "</div>"
      ],
      "text/plain": [
       "                    step    amount  oldbalanceOrg  newbalanceOrig   isFraud\n",
       "step            1.000000  0.022373      -0.010058       -0.010299  0.031578\n",
       "amount          0.022373  1.000000      -0.002762       -0.007861  0.076688\n",
       "oldbalanceOrg  -0.010058 -0.002762       1.000000        0.998803  0.010154\n",
       "newbalanceOrig -0.010299 -0.007861       0.998803        1.000000 -0.008148\n",
       "isFraud         0.031578  0.076688       0.010154       -0.008148  1.000000"
      ]
     },
     "execution_count": 166,
     "metadata": {},
     "output_type": "execute_result"
    }
   ],
   "source": [
    "correlation"
   ]
  },
  {
   "cell_type": "code",
   "execution_count": 168,
   "id": "8d94b740",
   "metadata": {},
   "outputs": [
    {
     "data": {
      "text/plain": [
       "newbalanceOrig   -0.008148\n",
       "oldbalanceOrg     0.010154\n",
       "step              0.031578\n",
       "amount            0.076688\n",
       "isFraud           1.000000\n",
       "Name: isFraud, dtype: float64"
      ]
     },
     "execution_count": 168,
     "metadata": {},
     "output_type": "execute_result"
    }
   ],
   "source": [
    "correlation['isFraud'].sort_values(ascending=True)"
   ]
  },
  {
   "cell_type": "code",
   "execution_count": null,
   "id": "b8765b1a",
   "metadata": {},
   "outputs": [],
   "source": [
    "plt.figure(figsize=(10,8))\n",
    "sns.heatmap(correlation,annot=True)"
   ]
  },
  {
   "cell_type": "code",
   "execution_count": 170,
   "id": "d9fe6bec",
   "metadata": {},
   "outputs": [
    {
     "data": {
      "text/html": [
       "<div>\n",
       "<style scoped>\n",
       "    .dataframe tbody tr th:only-of-type {\n",
       "        vertical-align: middle;\n",
       "    }\n",
       "\n",
       "    .dataframe tbody tr th {\n",
       "        vertical-align: top;\n",
       "    }\n",
       "\n",
       "    .dataframe thead th {\n",
       "        text-align: right;\n",
       "    }\n",
       "</style>\n",
       "<table border=\"1\" class=\"dataframe\">\n",
       "  <thead>\n",
       "    <tr style=\"text-align: right;\">\n",
       "      <th></th>\n",
       "      <th>step</th>\n",
       "      <th>type</th>\n",
       "      <th>amount</th>\n",
       "      <th>oldbalanceOrg</th>\n",
       "      <th>newbalanceOrig</th>\n",
       "      <th>isFraud</th>\n",
       "    </tr>\n",
       "  </thead>\n",
       "  <tbody>\n",
       "    <tr>\n",
       "      <th>0</th>\n",
       "      <td>1</td>\n",
       "      <td>PAYMENT</td>\n",
       "      <td>9839.64</td>\n",
       "      <td>170136.00</td>\n",
       "      <td>160296.36</td>\n",
       "      <td>0</td>\n",
       "    </tr>\n",
       "    <tr>\n",
       "      <th>1</th>\n",
       "      <td>1</td>\n",
       "      <td>PAYMENT</td>\n",
       "      <td>1864.28</td>\n",
       "      <td>21249.00</td>\n",
       "      <td>19384.72</td>\n",
       "      <td>0</td>\n",
       "    </tr>\n",
       "    <tr>\n",
       "      <th>2</th>\n",
       "      <td>1</td>\n",
       "      <td>TRANSFER</td>\n",
       "      <td>181.00</td>\n",
       "      <td>181.00</td>\n",
       "      <td>0.00</td>\n",
       "      <td>1</td>\n",
       "    </tr>\n",
       "    <tr>\n",
       "      <th>3</th>\n",
       "      <td>1</td>\n",
       "      <td>CASH_OUT</td>\n",
       "      <td>181.00</td>\n",
       "      <td>181.00</td>\n",
       "      <td>0.00</td>\n",
       "      <td>1</td>\n",
       "    </tr>\n",
       "    <tr>\n",
       "      <th>4</th>\n",
       "      <td>1</td>\n",
       "      <td>PAYMENT</td>\n",
       "      <td>11668.14</td>\n",
       "      <td>41554.00</td>\n",
       "      <td>29885.86</td>\n",
       "      <td>0</td>\n",
       "    </tr>\n",
       "    <tr>\n",
       "      <th>...</th>\n",
       "      <td>...</td>\n",
       "      <td>...</td>\n",
       "      <td>...</td>\n",
       "      <td>...</td>\n",
       "      <td>...</td>\n",
       "      <td>...</td>\n",
       "    </tr>\n",
       "    <tr>\n",
       "      <th>6362615</th>\n",
       "      <td>743</td>\n",
       "      <td>CASH_OUT</td>\n",
       "      <td>339682.13</td>\n",
       "      <td>339682.13</td>\n",
       "      <td>0.00</td>\n",
       "      <td>1</td>\n",
       "    </tr>\n",
       "    <tr>\n",
       "      <th>6362616</th>\n",
       "      <td>743</td>\n",
       "      <td>TRANSFER</td>\n",
       "      <td>6311409.28</td>\n",
       "      <td>6311409.28</td>\n",
       "      <td>0.00</td>\n",
       "      <td>1</td>\n",
       "    </tr>\n",
       "    <tr>\n",
       "      <th>6362617</th>\n",
       "      <td>743</td>\n",
       "      <td>CASH_OUT</td>\n",
       "      <td>6311409.28</td>\n",
       "      <td>6311409.28</td>\n",
       "      <td>0.00</td>\n",
       "      <td>1</td>\n",
       "    </tr>\n",
       "    <tr>\n",
       "      <th>6362618</th>\n",
       "      <td>743</td>\n",
       "      <td>TRANSFER</td>\n",
       "      <td>850002.52</td>\n",
       "      <td>850002.52</td>\n",
       "      <td>0.00</td>\n",
       "      <td>1</td>\n",
       "    </tr>\n",
       "    <tr>\n",
       "      <th>6362619</th>\n",
       "      <td>743</td>\n",
       "      <td>CASH_OUT</td>\n",
       "      <td>850002.52</td>\n",
       "      <td>850002.52</td>\n",
       "      <td>0.00</td>\n",
       "      <td>1</td>\n",
       "    </tr>\n",
       "  </tbody>\n",
       "</table>\n",
       "<p>6362620 rows × 6 columns</p>\n",
       "</div>"
      ],
      "text/plain": [
       "         step      type      amount  oldbalanceOrg  newbalanceOrig  isFraud\n",
       "0           1   PAYMENT     9839.64      170136.00       160296.36        0\n",
       "1           1   PAYMENT     1864.28       21249.00        19384.72        0\n",
       "2           1  TRANSFER      181.00         181.00            0.00        1\n",
       "3           1  CASH_OUT      181.00         181.00            0.00        1\n",
       "4           1   PAYMENT    11668.14       41554.00        29885.86        0\n",
       "...       ...       ...         ...            ...             ...      ...\n",
       "6362615   743  CASH_OUT   339682.13      339682.13            0.00        1\n",
       "6362616   743  TRANSFER  6311409.28     6311409.28            0.00        1\n",
       "6362617   743  CASH_OUT  6311409.28     6311409.28            0.00        1\n",
       "6362618   743  TRANSFER   850002.52      850002.52            0.00        1\n",
       "6362619   743  CASH_OUT   850002.52      850002.52            0.00        1\n",
       "\n",
       "[6362620 rows x 6 columns]"
      ]
     },
     "execution_count": 170,
     "metadata": {},
     "output_type": "execute_result"
    }
   ],
   "source": [
    "df"
   ]
  },
  {
   "cell_type": "markdown",
   "id": "2b19330b",
   "metadata": {},
   "source": [
    "### Encoding the data"
   ]
  },
  {
   "cell_type": "code",
   "execution_count": 171,
   "id": "b709ac15",
   "metadata": {},
   "outputs": [],
   "source": [
    "# we need to encode type column, we can do one hot encoding\n",
    "one_hot_data=pd.get_dummies(df,columns=['type'])"
   ]
  },
  {
   "cell_type": "code",
   "execution_count": 172,
   "id": "ffe993c2",
   "metadata": {},
   "outputs": [
    {
     "data": {
      "text/html": [
       "<div>\n",
       "<style scoped>\n",
       "    .dataframe tbody tr th:only-of-type {\n",
       "        vertical-align: middle;\n",
       "    }\n",
       "\n",
       "    .dataframe tbody tr th {\n",
       "        vertical-align: top;\n",
       "    }\n",
       "\n",
       "    .dataframe thead th {\n",
       "        text-align: right;\n",
       "    }\n",
       "</style>\n",
       "<table border=\"1\" class=\"dataframe\">\n",
       "  <thead>\n",
       "    <tr style=\"text-align: right;\">\n",
       "      <th></th>\n",
       "      <th>step</th>\n",
       "      <th>amount</th>\n",
       "      <th>oldbalanceOrg</th>\n",
       "      <th>newbalanceOrig</th>\n",
       "      <th>isFraud</th>\n",
       "      <th>type_CASH_IN</th>\n",
       "      <th>type_CASH_OUT</th>\n",
       "      <th>type_DEBIT</th>\n",
       "      <th>type_PAYMENT</th>\n",
       "      <th>type_TRANSFER</th>\n",
       "    </tr>\n",
       "  </thead>\n",
       "  <tbody>\n",
       "    <tr>\n",
       "      <th>0</th>\n",
       "      <td>1</td>\n",
       "      <td>9839.64</td>\n",
       "      <td>170136.00</td>\n",
       "      <td>160296.36</td>\n",
       "      <td>0</td>\n",
       "      <td>0</td>\n",
       "      <td>0</td>\n",
       "      <td>0</td>\n",
       "      <td>1</td>\n",
       "      <td>0</td>\n",
       "    </tr>\n",
       "    <tr>\n",
       "      <th>1</th>\n",
       "      <td>1</td>\n",
       "      <td>1864.28</td>\n",
       "      <td>21249.00</td>\n",
       "      <td>19384.72</td>\n",
       "      <td>0</td>\n",
       "      <td>0</td>\n",
       "      <td>0</td>\n",
       "      <td>0</td>\n",
       "      <td>1</td>\n",
       "      <td>0</td>\n",
       "    </tr>\n",
       "    <tr>\n",
       "      <th>2</th>\n",
       "      <td>1</td>\n",
       "      <td>181.00</td>\n",
       "      <td>181.00</td>\n",
       "      <td>0.00</td>\n",
       "      <td>1</td>\n",
       "      <td>0</td>\n",
       "      <td>0</td>\n",
       "      <td>0</td>\n",
       "      <td>0</td>\n",
       "      <td>1</td>\n",
       "    </tr>\n",
       "    <tr>\n",
       "      <th>3</th>\n",
       "      <td>1</td>\n",
       "      <td>181.00</td>\n",
       "      <td>181.00</td>\n",
       "      <td>0.00</td>\n",
       "      <td>1</td>\n",
       "      <td>0</td>\n",
       "      <td>1</td>\n",
       "      <td>0</td>\n",
       "      <td>0</td>\n",
       "      <td>0</td>\n",
       "    </tr>\n",
       "    <tr>\n",
       "      <th>4</th>\n",
       "      <td>1</td>\n",
       "      <td>11668.14</td>\n",
       "      <td>41554.00</td>\n",
       "      <td>29885.86</td>\n",
       "      <td>0</td>\n",
       "      <td>0</td>\n",
       "      <td>0</td>\n",
       "      <td>0</td>\n",
       "      <td>1</td>\n",
       "      <td>0</td>\n",
       "    </tr>\n",
       "    <tr>\n",
       "      <th>...</th>\n",
       "      <td>...</td>\n",
       "      <td>...</td>\n",
       "      <td>...</td>\n",
       "      <td>...</td>\n",
       "      <td>...</td>\n",
       "      <td>...</td>\n",
       "      <td>...</td>\n",
       "      <td>...</td>\n",
       "      <td>...</td>\n",
       "      <td>...</td>\n",
       "    </tr>\n",
       "    <tr>\n",
       "      <th>6362615</th>\n",
       "      <td>743</td>\n",
       "      <td>339682.13</td>\n",
       "      <td>339682.13</td>\n",
       "      <td>0.00</td>\n",
       "      <td>1</td>\n",
       "      <td>0</td>\n",
       "      <td>1</td>\n",
       "      <td>0</td>\n",
       "      <td>0</td>\n",
       "      <td>0</td>\n",
       "    </tr>\n",
       "    <tr>\n",
       "      <th>6362616</th>\n",
       "      <td>743</td>\n",
       "      <td>6311409.28</td>\n",
       "      <td>6311409.28</td>\n",
       "      <td>0.00</td>\n",
       "      <td>1</td>\n",
       "      <td>0</td>\n",
       "      <td>0</td>\n",
       "      <td>0</td>\n",
       "      <td>0</td>\n",
       "      <td>1</td>\n",
       "    </tr>\n",
       "    <tr>\n",
       "      <th>6362617</th>\n",
       "      <td>743</td>\n",
       "      <td>6311409.28</td>\n",
       "      <td>6311409.28</td>\n",
       "      <td>0.00</td>\n",
       "      <td>1</td>\n",
       "      <td>0</td>\n",
       "      <td>1</td>\n",
       "      <td>0</td>\n",
       "      <td>0</td>\n",
       "      <td>0</td>\n",
       "    </tr>\n",
       "    <tr>\n",
       "      <th>6362618</th>\n",
       "      <td>743</td>\n",
       "      <td>850002.52</td>\n",
       "      <td>850002.52</td>\n",
       "      <td>0.00</td>\n",
       "      <td>1</td>\n",
       "      <td>0</td>\n",
       "      <td>0</td>\n",
       "      <td>0</td>\n",
       "      <td>0</td>\n",
       "      <td>1</td>\n",
       "    </tr>\n",
       "    <tr>\n",
       "      <th>6362619</th>\n",
       "      <td>743</td>\n",
       "      <td>850002.52</td>\n",
       "      <td>850002.52</td>\n",
       "      <td>0.00</td>\n",
       "      <td>1</td>\n",
       "      <td>0</td>\n",
       "      <td>1</td>\n",
       "      <td>0</td>\n",
       "      <td>0</td>\n",
       "      <td>0</td>\n",
       "    </tr>\n",
       "  </tbody>\n",
       "</table>\n",
       "<p>6362620 rows × 10 columns</p>\n",
       "</div>"
      ],
      "text/plain": [
       "         step      amount  oldbalanceOrg  newbalanceOrig  isFraud  \\\n",
       "0           1     9839.64      170136.00       160296.36        0   \n",
       "1           1     1864.28       21249.00        19384.72        0   \n",
       "2           1      181.00         181.00            0.00        1   \n",
       "3           1      181.00         181.00            0.00        1   \n",
       "4           1    11668.14       41554.00        29885.86        0   \n",
       "...       ...         ...            ...             ...      ...   \n",
       "6362615   743   339682.13      339682.13            0.00        1   \n",
       "6362616   743  6311409.28     6311409.28            0.00        1   \n",
       "6362617   743  6311409.28     6311409.28            0.00        1   \n",
       "6362618   743   850002.52      850002.52            0.00        1   \n",
       "6362619   743   850002.52      850002.52            0.00        1   \n",
       "\n",
       "         type_CASH_IN  type_CASH_OUT  type_DEBIT  type_PAYMENT  type_TRANSFER  \n",
       "0                   0              0           0             1              0  \n",
       "1                   0              0           0             1              0  \n",
       "2                   0              0           0             0              1  \n",
       "3                   0              1           0             0              0  \n",
       "4                   0              0           0             1              0  \n",
       "...               ...            ...         ...           ...            ...  \n",
       "6362615             0              1           0             0              0  \n",
       "6362616             0              0           0             0              1  \n",
       "6362617             0              1           0             0              0  \n",
       "6362618             0              0           0             0              1  \n",
       "6362619             0              1           0             0              0  \n",
       "\n",
       "[6362620 rows x 10 columns]"
      ]
     },
     "execution_count": 172,
     "metadata": {},
     "output_type": "execute_result"
    }
   ],
   "source": [
    "one_hot_data"
   ]
  },
  {
   "cell_type": "markdown",
   "id": "b02edcfe",
   "metadata": {},
   "source": [
    "### Splitting of data"
   ]
  },
  {
   "cell_type": "code",
   "execution_count": 173,
   "id": "2bc2e498",
   "metadata": {},
   "outputs": [],
   "source": [
    "X=one_hot_data.drop(['isFraud'],axis=1)\n",
    "y=one_hot_data['isFraud']"
   ]
  },
  {
   "cell_type": "code",
   "execution_count": 174,
   "id": "916c1f22",
   "metadata": {},
   "outputs": [],
   "source": [
    "from sklearn.model_selection import train_test_split\n",
    "X_train,X_test,y_train,y_test=train_test_split(X,y,test_size=0.3,random_state=11)"
   ]
  },
  {
   "cell_type": "code",
   "execution_count": 177,
   "id": "13249dc2",
   "metadata": {},
   "outputs": [
    {
     "name": "stdout",
     "output_type": "stream",
     "text": [
      "(4453834, 9) (1908786, 9)\n"
     ]
    }
   ],
   "source": [
    "print(X_train.shape,X_test.shape)"
   ]
  },
  {
   "cell_type": "markdown",
   "id": "d5a5d705",
   "metadata": {},
   "source": [
    "### Balance the dataset "
   ]
  },
  {
   "cell_type": "code",
   "execution_count": 179,
   "id": "bc47975f",
   "metadata": {},
   "outputs": [],
   "source": [
    "# here we ae using SMOTEENN\n",
    "from imblearn.combine import SMOTEENN\n",
    "smt=SMOTEENN(sampling_strategy='all')\n",
    "X_smt,y_smt=smt.fit_resample(X_train,y_train)"
   ]
  },
  {
   "cell_type": "code",
   "execution_count": 181,
   "id": "e14deb01",
   "metadata": {},
   "outputs": [
    {
     "name": "stdout",
     "output_type": "stream",
     "text": [
      "y train:  Counter({0: 4448061, 1: 5773})\n",
      "y test:  Counter({1: 4434454, 0: 4417640})\n"
     ]
    }
   ],
   "source": [
    "from collections import Counter\n",
    "print(\"y train: \",Counter(y_train))\n",
    "print(\"y test: \",Counter(y_smt))"
   ]
  },
  {
   "cell_type": "code",
   "execution_count": 192,
   "id": "58f73e08",
   "metadata": {},
   "outputs": [],
   "source": [
    "from sklearn.linear_model import LogisticRegression\n",
    "from sklearn.tree import DecisionTreeClassifier\n",
    "from sklearn.ensemble import RandomForestClassifier\n",
    "from sklearn.neighbors import KNeighborsClassifier\n",
    "import xgboost\n",
    "from xgboost import XGBClassifier\n",
    "from sklearn.metrics import f1_score,accuracy_score,roc_auc_score"
   ]
  },
  {
   "cell_type": "markdown",
   "id": "9098f06f",
   "metadata": {},
   "source": [
    "## Scaling the data"
   ]
  },
  {
   "cell_type": "code",
   "execution_count": 190,
   "id": "62abc9f6",
   "metadata": {},
   "outputs": [],
   "source": [
    "from sklearn.preprocessing import StandardScaler\n",
    "scaler=StandardScaler()\n",
    "X_train_scaled=scaler.fit(X_train)\n",
    "X_smt_scaled=scaler.transform(X_smt)\n",
    "X_test_scaled=scaler.transform(X_test)"
   ]
  },
  {
   "cell_type": "code",
   "execution_count": 194,
   "id": "ba4dda84",
   "metadata": {},
   "outputs": [],
   "source": [
    "lr=LogisticRegression()\n",
    "lr.fit(X_smt_scaled,y_smt)\n",
    "predicted_values=lr.predict(X_test)"
   ]
  },
  {
   "cell_type": "code",
   "execution_count": 201,
   "id": "f97b81a2",
   "metadata": {},
   "outputs": [],
   "source": [
    "f1score_lr=f1_score(y_test,predicted_values)\n",
    "accuracyscore_lr=accuracy_score(y_test,predicted_values)\n",
    "aurocscore_lr=roc_auc_score(y_test,lr.predict_proba(X_test)[:,1])"
   ]
  },
  {
   "cell_type": "code",
   "execution_count": 202,
   "id": "3d3a0958",
   "metadata": {},
   "outputs": [
    {
     "name": "stdout",
     "output_type": "stream",
     "text": [
      "f1-score:  0.005433617409015383\n",
      "accuracy-score:  0.5333840461948065\n",
      "auroc score:  0.7649726904159091\n"
     ]
    }
   ],
   "source": [
    "print(\"f1-score: \",f1score_lr)\n",
    "print(\"accuracy-score: \",accuracyscore_lr)\n",
    "print(\"auroc score: \",aurocscore_lr)"
   ]
  },
  {
   "cell_type": "code",
   "execution_count": 205,
   "id": "d2f1675d",
   "metadata": {},
   "outputs": [],
   "source": [
    "dt=DecisionTreeClassifier()\n",
    "dt.fit(X_smt,y_smt)\n",
    "predicted_values=dt.predict(X_test)\n",
    "f1score_dt=f1_score(y_test,predicted_values)\n",
    "accuracyscore_dt=accuracy_score(y_test,predicted_values)\n",
    "aurocscore_dt=roc_auc_score(y_test,dt.predict_proba(X_test)[:,1])"
   ]
  },
  {
   "cell_type": "code",
   "execution_count": 206,
   "id": "42be8320",
   "metadata": {},
   "outputs": [
    {
     "name": "stdout",
     "output_type": "stream",
     "text": [
      "f1-score:  0.8181143281365999\n",
      "accuracy-score:  0.9994865846669034\n",
      "auroc score:  0.9514442065485746\n"
     ]
    }
   ],
   "source": [
    "print(\"f1-score: \",f1score_dt)\n",
    "print(\"accuracy-score: \",accuracyscore_dt)\n",
    "print(\"auroc score: \",aurocscore_dt)"
   ]
  },
  {
   "cell_type": "markdown",
   "id": "4ee40a92",
   "metadata": {},
   "source": [
    "* we can see that auroc score of decision tree classifier is 95%, which is pretty much good"
   ]
  },
  {
   "cell_type": "markdown",
   "id": "a9d4b82f",
   "metadata": {},
   "source": [
    "### Final Conclusion\n",
    "1. as the steps increases the percentage of getting fraud also increases\n",
    "2. most amount of frauds are being taken after 13 days, considering each step as hour, i.e at the middle of the month\n",
    "3. amount that is being transferred is less in the case, if the transaction is fraud.\n",
    "4. call in early hours or on begining of the monthS."
   ]
  },
  {
   "cell_type": "code",
   "execution_count": null,
   "id": "9ba50c9e",
   "metadata": {},
   "outputs": [],
   "source": []
  }
 ],
 "metadata": {
  "kernelspec": {
   "display_name": "Python 3 (ipykernel)",
   "language": "python",
   "name": "python3"
  },
  "language_info": {
   "codemirror_mode": {
    "name": "ipython",
    "version": 3
   },
   "file_extension": ".py",
   "mimetype": "text/x-python",
   "name": "python",
   "nbconvert_exporter": "python",
   "pygments_lexer": "ipython3",
   "version": "3.9.12"
  }
 },
 "nbformat": 4,
 "nbformat_minor": 5
}
